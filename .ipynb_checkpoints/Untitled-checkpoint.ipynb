{
 "cells": [
  {
   "cell_type": "code",
   "execution_count": 1,
   "id": "8d7906cc",
   "metadata": {},
   "outputs": [],
   "source": [
    "import pandas as pd\n",
    "import numpy as np"
   ]
  },
  {
   "cell_type": "code",
   "execution_count": 2,
   "id": "1887c26c",
   "metadata": {},
   "outputs": [],
   "source": [
    "data = pd.read_csv(\"train.csv\")\n",
    "test = pd.read_csv(\"test.csv\")\n",
    "df = data.copy()\n",
    "tf = test.copy()"
   ]
  },
  {
   "cell_type": "code",
   "execution_count": null,
   "id": "6933db4f",
   "metadata": {},
   "outputs": [],
   "source": [
    "df.head()"
   ]
  },
  {
   "cell_type": "code",
   "execution_count": null,
   "id": "86605d88",
   "metadata": {},
   "outputs": [],
   "source": [
    "df = df.drop(\"Name\",axis = 1)"
   ]
  },
  {
   "cell_type": "code",
   "execution_count": null,
   "id": "03cbdfe1",
   "metadata": {},
   "outputs": [],
   "source": [
    "df.head(10)"
   ]
  },
  {
   "cell_type": "code",
   "execution_count": null,
   "id": "a86fc2ea",
   "metadata": {},
   "outputs": [],
   "source": [
    "df.shape"
   ]
  },
  {
   "cell_type": "code",
   "execution_count": null,
   "id": "8e6aad02",
   "metadata": {},
   "outputs": [],
   "source": [
    "df.isna().sum()"
   ]
  },
  {
   "cell_type": "code",
   "execution_count": null,
   "id": "7de4d0d8",
   "metadata": {},
   "outputs": [],
   "source": [
    "df = df.drop(\"Cabin\",axis = 1)"
   ]
  },
  {
   "cell_type": "code",
   "execution_count": null,
   "id": "eda04aee",
   "metadata": {},
   "outputs": [],
   "source": [
    "# we will use hot-deck-imputation for missing values of df age\n",
    "def hot_deck_imputation(df, target_variable, matching_variables):\n",
    "    for index, row in df.iterrows():\n",
    "        if pd.isnull(row[target_variable]):\n",
    "            matching_criteria = row[matching_variables]\n",
    "            similar_individuals = df.dropna(subset=[target_variable]).loc[\n",
    "                (df[matching_variables] == matching_criteria).all(axis=1)]\n",
    "            if len(similar_individuals) > 0:\n",
    "                imputed_value = similar_individuals.sample(n=1)[target_variable].values[0]\n",
    "                df.loc[index, target_variable] = imputed_value\n",
    "\n",
    "    return df\n",
    "\n",
    "target_variable = \"Age\"\n",
    "matching_variables = ['Sex', \"Survived\",\"Pclass\"]\n",
    "# Perform hot-deck imputation\n",
    "data_imputed = hot_deck_imputation(df, target_variable, matching_variables)\n",
    "#print(data_imputed)\n",
    "df = data_imputed"
   ]
  },
  {
   "cell_type": "code",
   "execution_count": null,
   "id": "56495edc",
   "metadata": {},
   "outputs": [],
   "source": [
    "df.isna().sum()"
   ]
  },
  {
   "cell_type": "code",
   "execution_count": null,
   "id": "b6a35766",
   "metadata": {},
   "outputs": [],
   "source": [
    "# Find the mode of the 'Embarked' column\n",
    "mode_embarked = df['Embarked'].mode().values[0]\n",
    "\n",
    "# Replace missing values with the mode\n",
    "df['Embarked'].fillna(mode_embarked, inplace=True)"
   ]
  },
  {
   "cell_type": "code",
   "execution_count": null,
   "id": "c5d75709",
   "metadata": {},
   "outputs": [],
   "source": [
    "df.isna().sum()"
   ]
  },
  {
   "cell_type": "code",
   "execution_count": null,
   "id": "b29dc822",
   "metadata": {},
   "outputs": [],
   "source": [
    "df.head(5)"
   ]
  },
  {
   "cell_type": "code",
   "execution_count": null,
   "id": "342633f6",
   "metadata": {},
   "outputs": [],
   "source": [
    "# lets check multicollinearity\n",
    "import matplotlib.pyplot as plt\n",
    "import seaborn as sns\n",
    "\n",
    "# Create correlation matrix\n",
    "corr_matrix = df.corr()\n",
    "\n",
    "# Plot correlation matrix heatmap\n",
    "sns.heatmap(corr_matrix, annot=True, cmap='coolwarm')\n",
    "plt.show()"
   ]
  },
  {
   "cell_type": "code",
   "execution_count": null,
   "id": "5df81030",
   "metadata": {},
   "outputs": [],
   "source": [
    "# Compute eigenvalues\n",
    "eigenvalues, _ = np.linalg.eig(corr_matrix)\n",
    "\n",
    "# Calculate condition number\n",
    "condition_number = np.max(eigenvalues) / np.min(eigenvalues)\n",
    "\n",
    "print(condition_number)\n",
    "\n",
    "# Eigenvalues or Condition Number: \n",
    "#     Perform an eigenvalue decomposition of the correlation matrix or \n",
    "#     calculate the condition number. High eigenvalues or \n",
    "#     a large condition number (>30) suggest multicollinearity."
   ]
  },
  {
   "cell_type": "code",
   "execution_count": null,
   "id": "22293b16",
   "metadata": {},
   "outputs": [],
   "source": [
    "df.head()"
   ]
  },
  {
   "cell_type": "code",
   "execution_count": null,
   "id": "5e8cf75b",
   "metadata": {},
   "outputs": [],
   "source": [
    "# custom mapping for Embarked\n",
    "embarked_mapping = {'C': 0, 'Q': 1, 'S': 2}\n",
    "df['Embarked'] = df['Embarked'].map(embarked_mapping)\n",
    "\n",
    "# custom mapping for Sex\n",
    "Sex_mapping = {'male': 0, 'female' : 1}\n",
    "df['Sex'] = df['Sex'].map(Sex_mapping)"
   ]
  },
  {
   "cell_type": "code",
   "execution_count": null,
   "id": "80666755",
   "metadata": {},
   "outputs": [],
   "source": [
    "df.head()"
   ]
  },
  {
   "cell_type": "code",
   "execution_count": null,
   "id": "03a1f5a5",
   "metadata": {},
   "outputs": [],
   "source": [
    "# Lets build Decision Tree\n",
    "from sklearn.model_selection import train_test_split as tts\n",
    "x = df[[\"Age\",\"Sex\",\"Embarked\",\"Pclass\"]]\n",
    "y = df[\"Survived\"]\n",
    "xtrain = x\n",
    "ytrain = y\n",
    "#xtrain,xtest,ytrain,ytest = tts(x,y,test_size = 0.2,random_state=1)"
   ]
  },
  {
   "cell_type": "code",
   "execution_count": null,
   "id": "905c87fd",
   "metadata": {},
   "outputs": [],
   "source": [
    "from sklearn.tree import DecisionTreeClassifier\n",
    "dtc = DecisionTreeClassifier()\n",
    "dtc.fit(xtrain, ytrain)\n",
    "#ypredtrain = dtc.predict(xtrain)\n",
    "#ypredtest = dtc.predict(xtest)"
   ]
  },
  {
   "cell_type": "code",
   "execution_count": null,
   "id": "c21499a5",
   "metadata": {},
   "outputs": [],
   "source": [
    "# from sklearn.metrics import accuracy_score\n",
    "# print(\"Accuracy of training \", accuracy_score(ytrain,ypredtrain))\n",
    "# print(\"Accuracy of testing \", accuracy_score(ytest,ypredtest))"
   ]
  },
  {
   "cell_type": "code",
   "execution_count": 3,
   "id": "98b22374",
   "metadata": {},
   "outputs": [
    {
     "data": {
      "text/plain": [
       "(891, 12)"
      ]
     },
     "execution_count": 3,
     "metadata": {},
     "output_type": "execute_result"
    }
   ],
   "source": [
    "tf.shape"
   ]
  },
  {
   "cell_type": "code",
   "execution_count": 4,
   "id": "2cc24773",
   "metadata": {},
   "outputs": [
    {
     "data": {
      "text/html": [
       "<div>\n",
       "<style scoped>\n",
       "    .dataframe tbody tr th:only-of-type {\n",
       "        vertical-align: middle;\n",
       "    }\n",
       "\n",
       "    .dataframe tbody tr th {\n",
       "        vertical-align: top;\n",
       "    }\n",
       "\n",
       "    .dataframe thead th {\n",
       "        text-align: right;\n",
       "    }\n",
       "</style>\n",
       "<table border=\"1\" class=\"dataframe\">\n",
       "  <thead>\n",
       "    <tr style=\"text-align: right;\">\n",
       "      <th></th>\n",
       "      <th>PassengerId</th>\n",
       "      <th>Survived</th>\n",
       "      <th>Pclass</th>\n",
       "      <th>Name</th>\n",
       "      <th>Sex</th>\n",
       "      <th>Age</th>\n",
       "      <th>SibSp</th>\n",
       "      <th>Parch</th>\n",
       "      <th>Ticket</th>\n",
       "      <th>Fare</th>\n",
       "      <th>Cabin</th>\n",
       "      <th>Embarked</th>\n",
       "    </tr>\n",
       "  </thead>\n",
       "  <tbody>\n",
       "    <tr>\n",
       "      <th>0</th>\n",
       "      <td>1</td>\n",
       "      <td>0</td>\n",
       "      <td>3</td>\n",
       "      <td>Braund, Mr. Owen Harris</td>\n",
       "      <td>male</td>\n",
       "      <td>22.0</td>\n",
       "      <td>1</td>\n",
       "      <td>0</td>\n",
       "      <td>A/5 21171</td>\n",
       "      <td>7.2500</td>\n",
       "      <td>NaN</td>\n",
       "      <td>S</td>\n",
       "    </tr>\n",
       "    <tr>\n",
       "      <th>1</th>\n",
       "      <td>2</td>\n",
       "      <td>1</td>\n",
       "      <td>1</td>\n",
       "      <td>Cumings, Mrs. John Bradley (Florence Briggs Th...</td>\n",
       "      <td>female</td>\n",
       "      <td>38.0</td>\n",
       "      <td>1</td>\n",
       "      <td>0</td>\n",
       "      <td>PC 17599</td>\n",
       "      <td>71.2833</td>\n",
       "      <td>C85</td>\n",
       "      <td>C</td>\n",
       "    </tr>\n",
       "    <tr>\n",
       "      <th>2</th>\n",
       "      <td>3</td>\n",
       "      <td>1</td>\n",
       "      <td>3</td>\n",
       "      <td>Heikkinen, Miss. Laina</td>\n",
       "      <td>female</td>\n",
       "      <td>26.0</td>\n",
       "      <td>0</td>\n",
       "      <td>0</td>\n",
       "      <td>STON/O2. 3101282</td>\n",
       "      <td>7.9250</td>\n",
       "      <td>NaN</td>\n",
       "      <td>S</td>\n",
       "    </tr>\n",
       "    <tr>\n",
       "      <th>3</th>\n",
       "      <td>4</td>\n",
       "      <td>1</td>\n",
       "      <td>1</td>\n",
       "      <td>Futrelle, Mrs. Jacques Heath (Lily May Peel)</td>\n",
       "      <td>female</td>\n",
       "      <td>35.0</td>\n",
       "      <td>1</td>\n",
       "      <td>0</td>\n",
       "      <td>113803</td>\n",
       "      <td>53.1000</td>\n",
       "      <td>C123</td>\n",
       "      <td>S</td>\n",
       "    </tr>\n",
       "    <tr>\n",
       "      <th>4</th>\n",
       "      <td>5</td>\n",
       "      <td>0</td>\n",
       "      <td>3</td>\n",
       "      <td>Allen, Mr. William Henry</td>\n",
       "      <td>male</td>\n",
       "      <td>35.0</td>\n",
       "      <td>0</td>\n",
       "      <td>0</td>\n",
       "      <td>373450</td>\n",
       "      <td>8.0500</td>\n",
       "      <td>NaN</td>\n",
       "      <td>S</td>\n",
       "    </tr>\n",
       "  </tbody>\n",
       "</table>\n",
       "</div>"
      ],
      "text/plain": [
       "   PassengerId  Survived  Pclass  \\\n",
       "0            1         0       3   \n",
       "1            2         1       1   \n",
       "2            3         1       3   \n",
       "3            4         1       1   \n",
       "4            5         0       3   \n",
       "\n",
       "                                                Name     Sex   Age  SibSp  \\\n",
       "0                            Braund, Mr. Owen Harris    male  22.0      1   \n",
       "1  Cumings, Mrs. John Bradley (Florence Briggs Th...  female  38.0      1   \n",
       "2                             Heikkinen, Miss. Laina  female  26.0      0   \n",
       "3       Futrelle, Mrs. Jacques Heath (Lily May Peel)  female  35.0      1   \n",
       "4                           Allen, Mr. William Henry    male  35.0      0   \n",
       "\n",
       "   Parch            Ticket     Fare Cabin Embarked  \n",
       "0      0         A/5 21171   7.2500   NaN        S  \n",
       "1      0          PC 17599  71.2833   C85        C  \n",
       "2      0  STON/O2. 3101282   7.9250   NaN        S  \n",
       "3      0            113803  53.1000  C123        S  \n",
       "4      0            373450   8.0500   NaN        S  "
      ]
     },
     "execution_count": 4,
     "metadata": {},
     "output_type": "execute_result"
    }
   ],
   "source": [
    "tf.head()"
   ]
  },
  {
   "cell_type": "code",
   "execution_count": null,
   "id": "1f8c2adb",
   "metadata": {},
   "outputs": [],
   "source": [
    "tf.isna().sum()"
   ]
  },
  {
   "cell_type": "code",
   "execution_count": null,
   "id": "183e60c5",
   "metadata": {},
   "outputs": [],
   "source": [
    "# missing values for AGe in test\n",
    "from sklearn.impute import KNNImputer\n",
    "\n",
    "# Define the imputer\n",
    "imputer = KNNImputer(n_neighbors=5)\n",
    "\n",
    "# Prepare the data for imputation\n",
    "imputation_data = tf[['Pclass', 'SibSp', 'Parch', 'Fare']]\n",
    "\n",
    "# Perform imputation\n",
    "tf['Age'] = imputer.fit_transform(imputation_data)"
   ]
  },
  {
   "cell_type": "code",
   "execution_count": null,
   "id": "70ea7ee0",
   "metadata": {},
   "outputs": [],
   "source": [
    "tf.drop(\"Cabin\",axis = True, inplace = True)"
   ]
  },
  {
   "cell_type": "code",
   "execution_count": null,
   "id": "6cf15934",
   "metadata": {},
   "outputs": [],
   "source": [
    "tf.isna().sum()"
   ]
  },
  {
   "cell_type": "code",
   "execution_count": null,
   "id": "f2815e3e",
   "metadata": {},
   "outputs": [],
   "source": [
    "# Find the mode of the 'Embarked' column\n",
    "modeembarked = tf['Embarked'].mode().values[0]\n",
    "\n",
    "# Replace missing values with the mode\n",
    "tf['Embarked'].fillna(modeembarked, inplace=True)"
   ]
  },
  {
   "cell_type": "code",
   "execution_count": null,
   "id": "98f060bc",
   "metadata": {},
   "outputs": [],
   "source": [
    "tf.isna().sum()"
   ]
  },
  {
   "cell_type": "code",
   "execution_count": null,
   "id": "d6cf7557",
   "metadata": {},
   "outputs": [],
   "source": [
    "# custom mapping for Embarked\n",
    "embarkedmapping = {'C': 0, 'Q': 1, 'S': 2}\n",
    "tf['Embarked'] = tf['Embarked'].map(embarkedmapping)\n",
    "\n",
    "# custom mapping for Sex\n",
    "Sexmapping = {'male': 0, 'female' : 1}\n",
    "tf['Sex'] = tf['Sex'].map(Sexmapping)"
   ]
  },
  {
   "cell_type": "code",
   "execution_count": null,
   "id": "301036e1",
   "metadata": {},
   "outputs": [],
   "source": [
    "xt = tf[[\"Age\",\"Sex\",\"Embarked\",\"Pclass\"]]"
   ]
  },
  {
   "cell_type": "code",
   "execution_count": null,
   "id": "442732ed",
   "metadata": {},
   "outputs": [],
   "source": [
    "ytp = dtc.predict(xt)"
   ]
  },
  {
   "cell_type": "code",
   "execution_count": null,
   "id": "95cba2d5",
   "metadata": {},
   "outputs": [],
   "source": [
    "# how to export into csv\n",
    "results = pd.DataFrame({'PassengerId': tf['PassengerId'], 'Survived': ytp})\n",
    "results.to_csv('Full_gender_submission.csv', index=False)"
   ]
  },
  {
   "cell_type": "code",
   "execution_count": null,
   "id": "49a51c94",
   "metadata": {},
   "outputs": [],
   "source": [
    "tf.shape"
   ]
  },
  {
   "cell_type": "code",
   "execution_count": null,
   "id": "a2f8694b",
   "metadata": {},
   "outputs": [],
   "source": [
    "results_418 = results.head(418)\n",
    "results_418.to_csv('gender_submission.csv', index=False)"
   ]
  },
  {
   "cell_type": "code",
   "execution_count": null,
   "id": "60b4ec24",
   "metadata": {},
   "outputs": [],
   "source": [
    "results_418.shape"
   ]
  },
  {
   "cell_type": "code",
   "execution_count": null,
   "id": "0b602b0f",
   "metadata": {},
   "outputs": [],
   "source": []
  }
 ],
 "metadata": {
  "kernelspec": {
   "display_name": "Python 3 (ipykernel)",
   "language": "python",
   "name": "python3"
  },
  "language_info": {
   "codemirror_mode": {
    "name": "ipython",
    "version": 3
   },
   "file_extension": ".py",
   "mimetype": "text/x-python",
   "name": "python",
   "nbconvert_exporter": "python",
   "pygments_lexer": "ipython3",
   "version": "3.9.13"
  }
 },
 "nbformat": 4,
 "nbformat_minor": 5
}
